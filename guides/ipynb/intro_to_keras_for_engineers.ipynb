{
 "cells": [
  {
   "cell_type": "markdown",
   "metadata": {
    "colab_type": "text"
   },
   "source": [
    "# \uc5d4\uc9c0\ub2c8\uc5b4\uc5d0\uac8c \ub9de\ub294 \ucf00\ub77c\uc2a4 \uc18c\uac1c\n",
    "\n",
    "**Author:** [fchollet](https://twitter.com/fchollet)<br>\n",
    "**Date created:** 2020/04/01<br>\n",
    "**Last modified:** 2020/04/28<br>\n",
    "**Description:** \ucf00\ub77c\uc2a4\ub85c \uc2e4\uc804 \uba38\uc2e0\ub7ec\ub2dd \uc194\ub8e8\uc158\uc744 \ub9cc\ub4e4\uae30 \uc704\ud574 \uc54c\uc544\uc57c \ud560 \ubaa8\ub4e0 \uac83."
   ]
  },
  {
   "cell_type": "markdown",
   "metadata": {
    "colab_type": "text"
   },
   "source": [
    "## \uc124\uc815"
   ]
  },
  {
   "cell_type": "code",
   "execution_count": 0,
   "metadata": {
    "colab_type": "code"
   },
   "outputs": [],
   "source": [
    "import numpy as np\n",
    "import tensorflow as tf\n",
    "from tensorflow import keras"
   ]
  },
  {
   "cell_type": "markdown",
   "metadata": {
    "colab_type": "text"
   },
   "source": [
    "## \uc18c\uac1c\n",
    "\n",
    "\ucf00\ub77c\uc2a4\ub85c \uc81c\ud488\uc5d0 \ub525\ub7ec\ub2dd\uc744 \uc801\uc6a9\ud558\uace0 \uc2f6\uc740 \uba38\uc2e0\ub7ec\ub2dd \uc5d4\uc9c0\ub2c8\uc5b4\uc778\uac00\uc694? \uc774 \uac00\uc774\ub4dc\uc5d0\uc11c \ucf00\ub77c\uc2a4 API\uc758 \ud575\uc2ec \ubd80\ubd84\uc744 \uc18c\uac1c\ud558\uaca0\uc2b5\ub2c8\ub2e4.\n",
    "\n",
    "\uc774 \uac00\uc774\ub4dc\uc5d0\uc11c \ub2e4\uc74c \ub0b4\uc6a9\uc744 \ubc30\uc6b8 \uc218 \uc788\uc2b5\ub2c8\ub2e4:\n",
    "\n",
    "- \ubaa8\ub378\uc744 \ud6c8\ub828\ud558\uae30 \uc804\uc5d0 \ub370\uc774\ud130\ub97c \uc900\ube44\ud558\ub294 \ubc29\ubc95(\ub118\ud30c\uc774 \ubc30\uc5f4\uc774\ub098 `tf.data.Dataset` \uac1d\uccb4\ub85c \ubcc0\ud658\ud569\ub2c8\ub2e4).\n",
    "- \ub370\uc774\ud130 \uc804\ucc98\ub9ac \ubc29\ubc95. \uc608\ub97c \ub4e4\uba74 \ud2b9\uc131 \uc815\uaddc\ud654\ub098 \uc5b4\ud718 \uc0ac\uc804 \uad6c\ucd95.\n",
    "- \ucf00\ub77c\uc2a4 \ud568\uc218\ud615 API\ub85c \ub370\uc774\ud130\uc5d0\uc11c \uc608\uce21\uc744 \ub9cc\ub4dc\ub294 \ubaa8\ub378 \uad6c\ucd95 \ubc29\ubc95.\n",
    "- \ucf00\ub77c\uc2a4\uc758 \uae30\ubcf8 `fit()` \uba54\uc11c\ub4dc\ub85c \uccb4\ud06c\ud3ec\uc778\ud305(checkpointing), \uc131\ub2a5 \uc9c0\ud45c \ubaa8\ub2c8\ud130\ub9c1, \ub0b4\uacb0\ud568\uc131(fault tolerance)\uc744 \uace0\ub824\ud55c \ubaa8\ub378 \ud6c8\ub828 \ubc29\ubc95.\n",
    "- \ud14c\uc2a4\ud2b8 \ub370\uc774\ud130\uc5d0\uc11c \ubaa8\ub378 \ud3c9\uac00\ud558\uace0 \uc0c8\ub85c\uc6b4 \ub370\uc774\ud130\uc5d0\uc11c \ubaa8\ub378\uc744 \uc0ac\uc6a9\ud574 \ucd94\ub860\ud558\ub294 \ubc29\ubc95.\n",
    "- GAN\uacfc \uac19\uc740 \ubaa8\ub378\uc744 \ub9cc\ub4e4\uae30 \uc704\ud574 `fit()` \uba54\uc11c\ub4dc\ub97c \ucee4\uc2a4\ud130\ub9c8\uc774\uc9d5\ud558\ub294 \ubc29\ubc95.\n",
    "- \uc5ec\ub7ec \uac1c\uc758 GPU\ub97c \uc0ac\uc6a9\ud574 \ud6c8\ub828 \uc18d\ub3c4\ub97c \ub192\uc774\ub294 \ubc29\ubc95.\n",
    "- \ud558\uc774\ud37c\ud30c\ub77c\ubbf8\ud130\ub97c \ud29c\ub2dd\ud558\uc5ec \ubaa8\ub378\uc758 \uc131\ub2a5\uc744 \ub192\uc774\ub294 \ubc29\ubc95.\n",
    "\n",
    "\uc774 \ubb38\uc11c \ub05d\uc5d0 \ub2e4\uc74c \uc8fc\uc81c\uc5d0 \ub300\ud55c \uc5d4\ub4dc-\ud22c-\uc5d4\ub4dc \uc608\uc81c \ub9c1\ud06c\ub97c \uc18c\uac1c\ud558\uaca0\uc2b5\ub2c8\ub2e4:\n",
    "\n",
    "- \uc774\ubbf8\uc9c0 \ubd84\ub958\n",
    "- \ud14d\uc2a4\ud2b8 \ubd84\ub958\n",
    "- \uc2e0\uc6a9 \uce74\ub4dc \ubd80\uc815 \uac70\ub798 \uac10\uc9c0\n",
    ""
   ]
  },
  {
   "cell_type": "markdown",
   "metadata": {
    "colab_type": "text"
   },
   "source": [
    "## \ub370\uc774\ud130 \uc801\uc7ac\uc640 \uc804\ucc98\ub9ac\n",
    "\n",
    "\uc2e0\uacbd\ub9dd\uc740 \ud14d\uc2a4\ud2b8 \ud30c\uc77c, JPEG \uc774\ubbf8\uc9c0 \ud30c\uc77c, CSV \ud30c\uc77c \uac19\uc740 \uc6d0\uc2dc \ub370\uc774\ud130\ub97c \uadf8\ub300\ub85c \ucc98\ub9ac\ud558\uc9c0 \uc54a\uc2b5\ub2c8\ub2e4.\n",
    "\uc2e0\uacbd\ub9dd\uc740 **\ubca1\ud130\ud654**\ub418\uac70\ub098 **\ud45c\uc900\ud654**\ub41c \ud45c\ud604\uc744 \ucc98\ub9ac\ud569\ub2c8\ub2e4.\n",
    "\n",
    "- \ud14d\uc2a4\ud2b8 \ud30c\uc77c\uc744 \ubb38\uc790\uc5f4 \ud150\uc11c\ub85c \uc77d\uc5b4 \ub2e8\uc5b4\ub85c \ubd84\ub9ac\ud569\ub2c8\ub2e4. \ub9c8\uc9c0\ub9c9\uc5d0 \ub2e8\uc5b4\ub97c \uc815\uc218 \ud150\uc11c\ub85c \uc778\ub371\uc2f1\ud558\uace0 \ubcc0\ud658\ud569\ub2c8\ub2e4.\n",
    "- \uc774\ubbf8\uc9c0\ub97c \uc77d\uc5b4 \uc815\uc218 \ud150\uc11c\ub85c \ub514\ucf54\ub529\ud569\ub2c8\ub2e4. \uadf8\ub2e4\uc74c \ubd80\ub3d9 \uc18c\uc218\ub85c \ubcc0\ud658\ud558\uace0 (\ubcf4\ud1b5 0\uc5d0\uc11c 1\uc0ac\uc774) \uc791\uc740 \uac12\uc73c\ub85c \uc815\uaddc\ud654\ud569\ub2c8\ub2e4.\n",
    "- CSV \ub370\uc774\ud130\ub97c \ud30c\uc2f1\ud558\uc5ec \uc815\uc218 \ud2b9\uc131\uc740 \ubd80\ub3d9 \uc18c\uc218 \ud150\uc11c\ub85c \ubcc0\ud658\ud558\uace0, \ubc94\uc8fc\ud615 \ud2b9\uc131\uc740 \uc815\uc218 \ud150\uc11c\ub85c \uc778\ub371\uc2f1\ud558\uace0 \ubcc0\ud658\ud569\ub2c8\ub2e4.\n",
    "\uadf8\ub2e4\uc74c \uc77c\ubc18\uc801\uc73c\ub85c \uac01 \ud2b9\uc131\uc744 \ud3c9\uade0 0, \ub2e8\uc704 \ubd84\uc0b0\uc73c\ub85c \uc815\uaddc\ud654\ud569\ub2c8\ub2e4.\n",
    "\n",
    "\uba3c\uc800 \ub370\uc774\ud130\ub97c \uc801\uc7ac\ud574 \ubcf4\uc8e0.\n",
    "\n",
    "## \ub370\uc774\ud130 \uc801\uc7ac\n",
    "\n",
    "\ucf00\ub77c\uc2a4 \ubaa8\ub378\uc740 \uc138 \uc885\ub958\uc758 \uc785\ub825\uc744 \ubc1b\uc2b5\ub2c8\ub2e4:\n",
    "\n",
    "- **\ub118\ud30c\uc774(NumPy) \ubc30\uc5f4**. \uc0ac\uc774\ud0b7\ub7f0(Scikit-Learn)\uc774\ub098 \ub2e4\ub978 \ud30c\uc774\uc36c \ub77c\uc774\ube0c\ub7ec\ub9ac\uc640 \ube44\uc2b7\ud569\ub2c8\ub2e4.\n",
    "\ub370\uc774\ud130 \ud06c\uae30\uac00 \uba54\ubaa8\ub9ac\uc5d0 \ub9de\uc744 \ub54c \uc88b\uc2b5\ub2c8\ub2e4.\n",
    "- **[\ud150\uc11c\ud50c\ub85c `Dataset` \uac1d\uccb4](https://www.tensorflow.org/guide/data)**.\n",
    "\ub370\uc774\ud130\uac00 \uba54\ubaa8\ub9ac\ubcf4\ub2e4 \ucee4\uc11c \ub514\uc2a4\ud06c\ub098 \ubd84\uc0b0 \ud30c\uc77c \uc2dc\uc2a4\ud15c\uc5d0\uc11c \uc2a4\ud2b8\ub9bc\uc73c\ub85c \uc77d\uc5b4\uc57c\ud560 \ub54c \uc801\ud569\ud55c \uace0\uc131\ub2a5 \ubc29\uc2dd\uc785\ub2c8\ub2e4.\n",
    "- **\ud30c\uc774\uc36c \uc81c\ub108\ub808\uc774\ud130(generator)**. \ubc30\uce58 \ub370\uc774\ud130\ub97c \ub9cc\ub4ed\ub2c8\ub2e4(`keras.utils.Sequence` \ud074\ub798\uc2a4\uc758\n",
    "\uc0ac\uc6a9\uc790 \uc815\uc758 \uc11c\ube0c\ud074\ub798\uc2a4\uc640 \ube44\uc2b7\ud569\ub2c8\ub2e4).\n",
    "\n",
    "\ubaa8\ub378\uc744 \ud6c8\ub828\ud558\uae30 \uc804\uc5d0 \uc774\ub7f0 \ud3ec\ub9f7 \uc911\uc5d0 \ud558\ub098\ub85c \ub370\uc774\ud130\ub97c \uc900\ube44\ud574\uc57c \ud569\ub2c8\ub2e4.\n",
    "\ub370\uc774\ud130\uc14b\uc774 \ud06c\uace0 GPU\uc5d0\uc11c \ud6c8\ub828\ud55c\ub2e4\uba74 `Dataset` \uac1d\uccb4\ub97c \uc0ac\uc6a9\ud558\ub294 \uac83\uc774 \uc88b\uc2b5\ub2c8\ub2e4.\n",
    "\ub2e4\uc74c \uac19\uc774 \uc131\ub2a5\uc5d0 \uc544\uc8fc \uc911\uc694\ud55c \uae30\ub2a5\uc744 \uc81c\uacf5\ud558\uae30 \ub54c\ubb38\uc785\ub2c8\ub2e4:\n",
    "\n",
    "- GPU\uac00 \ubc14\uc060 \ub54c CPU\uc5d0\uc11c \ub370\uc774\ud130\ub97c \ube44\ub3d9\uae30\uc801\uc73c\ub85c \uc804\ucc98\ub9ac\ud558\uace0 \ud050\uc5d0 \ubc84\ud37c\ub9c1\ud569\ub2c8\ub2e4.\n",
    "- GPU \uba54\ubaa8\ub9ac\uc5d0 \ub370\uc774\ud130\ub97c \ud504\ub9ac\ud398\uce58(prefetch)\ud558\uc5ec GPU\uc5d0\uc11c \uc774\uc804 \ubc30\uce58\uc5d0 \ub300\ud55c \ucc98\ub9ac\uac00 \ub05d\ub098\ub294\ub300\ub85c \uc989\uc2dc \uc0ac\uc6a9\ud560 \uc218 \uc788\uc2b5\ub2c8\ub2e4.\n",
    "\uc774\ub97c \ud1b5\ud574 GPU\ub97c \ucd5c\ub300\ub85c \ud65c\uc6a9\ud560 \uc218 \uc788\uc2b5\ub2c8\ub2e4.\n",
    "\n",
    "\ucf00\ub77c\uc2a4\ub294 \ub514\uc2a4\ud06c\uc5d0 \uc788\ub294 \uc6d0\uc2dc \ub370\uc774\ud130\ub97c `Dataset`\uc73c\ub85c \ubcc0\ud658\ud574 \uc8fc\ub294\n",
    "\uc5ec\ub7ec \uc720\ud2f8\ub9ac\ud2f0\ub97c \uc81c\uacf5\ud569\ub2c8\ub2e4(**\uc62e\uae34\uc774_** \uc544\ub798 \ud568\uc218\ub294 \uc544\uc9c1 tf-nightly \ud328\ud0a4\uc9c0\uc5d0\uc11c\ub9cc \uc81c\uacf5\ud569\ub2c8\ub2e4):\n",
    "\n",
    "- `tf.keras.preprocessing.image_dataset_from_directory`\ub294 \ud074\ub798\uc2a4\ubcc4\ub85c \ud3f4\ub354\uc5d0 \ub098\ub258\uc5b4 \uc788\ub294 \uc774\ubbf8\uc9c0 \ud30c\uc77c\uc744\n",
    "\ub808\uc774\ube14\ub41c \uc774\ubbf8\uc9c0 \ud150\uc11c \ub370\uc774\ud130\uc14b\uc73c\ub85c \ubcc0\ud658\ud569\ub2c8\ub2e4.\n",
    "- `tf.keras.preprocessing.text_dataset_from_directory`\ub294 \ud14d\uc2a4\ud2b8 \ud30c\uc77c\uc5d0 \ub300\ud574 \ub3d9\uc77c\ud55c \uc791\uc5c5\uc744 \uc218\ud589\ud569\ub2c8\ub2e4.\n",
    "\n",
    "\ub610\ud55c \ud150\uc11c\ud50c\ub85c\uc758 `tf.data`\ub294 CSV \ud30c\uc77c\uc5d0\uc11c \uc815\ud615\ud654\ub41c \ub370\uc774\ud130\ub97c \ub85c\ub4dc\ud558\ub294\n",
    "`tf.data.experimental.make_csv_dataset`\uc640 \uac19\uc740 \uc720\ud2f8\ub9ac\ud2f0\ub97c \uc81c\uacf5\ud569\ub2c8\ub2e4.\n",
    "\n",
    "**\uc608\uc81c: \ub514\uc2a4\ud06c\uc5d0 \uc788\ub294 \uc774\ubbf8\uc9c0 \ud30c\uc77c\uc5d0\uc11c \ub808\uc774\ube14\ub41c \ub370\uc774\ud130\uc14b \ub9cc\ub4e4\uae30**\n",
    "\n",
    "\ub2e4\uc74c\ucc98\ub7fc \ud074\ub798\uc2a4\ubcc4\ub85c \uac01\uae30 \ub2e4\ub978 \ud3f4\ub354\uc5d0 \uc774\ubbf8\uc9c0 \ud30c\uc77c\uc774 \ub4e4\uc5b4 \uc788\ub2e4\uace0 \uac00\uc815\ud574 \ubcf4\uc8e0:\n",
    "\n",
    "```\n",
    "main_directory/\n",
    "...class_a/\n",
    "......a_image_1.jpg\n",
    "......a_image_2.jpg\n",
    "...class_b/\n",
    "......b_image_1.jpg\n",
    "......b_image_2.jpg\n",
    "```\n",
    "\n",
    "\uadf8\ub7fc \ub2e4\uc74c\ucc98\ub7fc \uc4f8 \uc218 \uc788\uc2b5\ub2c8\ub2e4:\n",
    "\n",
    "```python\n",
    "# \ub370\uc774\ud130\uc14b\uc744 \ub9cc\ub4ed\ub2c8\ub2e4.\n",
    "dataset = keras.preprocessing.image_dataset_from_directory(\n",
    "  'path/to/main_directory', batch_size=64, image_size=(200, 200))\n",
    "\n",
    "# \uc608\uc2dc\ub97c \uc704\ud574 \ub370\uc774\ud130\uc14b\uc758 \ubc30\uce58\ub97c \uc21c\ud68c\ud569\ub2c8\ub2e4.\n",
    "for data, labels in dataset:\n",
    "   print(data.shape)  # (64, 200, 200, 3)\n",
    "   print(data.dtype)  # float32\n",
    "   print(labels.shape)  # (64,)\n",
    "   print(labels.dtype)  # int32\n",
    "```\n",
    "\n",
    "\uc0d8\ud50c\uc758 \ub808\uc774\ube14\uc740 \ud3f4\ub354\uc758 \uc54c\ud30c\ubcb3 \uc21c\uc11c\ub300\ub85c \ub9e4\uaca8\uc9d1\ub2c8\ub2e4.\n",
    "\ub9e4\uac1c\ubcc0\uc218\ub97c \uc0ac\uc6a9\ud574 \uba85\uc2dc\uc801\uc73c\ub85c \uc9c0\uc815\ud560 \uc218\ub3c4 \uc788\uc2b5\ub2c8\ub2e4.\n",
    "\uc608\ub97c \ub4e4\uc5b4 `class_names=['class_a', 'class_b']`\ub77c\uace0 \uc4f8 \uacbd\uc6b0 \ub2e4\n",
    "\ud074\ub798\uc2a4 \ub808\uc774\ube14 `0`\uc740 `class_a`\uac00 \ub418\uace0 `1`\uc740 `class_b`\uac00 \ub429\ub2c8.\n",
    "\n",
    "**\uc608\uc81c: \ub514\uc2a4\ud06c\uc5d0 \uc788\ub294 \ud14d\uc2a4\ud2b8 \ud30c\uc77c\uc5d0\uc11c \ub808\uc774\ube14\ub41c \ub370\uc774\ud130\uc14b \ub9cc\ub4e4\uae30**\n",
    "\n",
    "\ud14d\uc2a4\ud2b8\ub3c4 \ube44\uc2b7\ud569\ub2c8\ub2e4. \ud074\ub798\uc2a4\ubcc4\ub85c \ub2e4\ub978 \ud3f4\ub354\uc5d0 `.txt` \ud30c\uc77c\uc774 \uc788\ub2e4\uba74 \ub2e4\uc74c\uacfc \uac19\uc774 \uc4f8 \uc218 \uc788\uc2b5\ub2c8\ub2e4:\n",
    "\n",
    "```python\n",
    "dataset = keras.preprocessing.text_dataset_from_directory(\n",
    "  'path/to/main_directory', batch_size=64)\n",
    "\n",
    "# \uc608\uc2dc\ub97c \uc704\ud574 \ub370\uc774\ud130\uc14b\uc758 \ubc30\uce58\ub97c \uc21c\ud68c\ud569\ub2c8\ub2e4.\n",
    "for data, labels in dataset:\n",
    "   print(data.shape)  # (64,)\n",
    "   print(data.dtype)  # string\n",
    "   print(labels.shape)  # (64,)\n",
    "   print(labels.dtype)  # int32\n",
    "```\n",
    "\n",
    ""
   ]
  },
  {
   "cell_type": "markdown",
   "metadata": {
    "colab_type": "text"
   },
   "source": [
    "## \ucf00\ub77c\uc2a4\ub97c \uc0ac\uc6a9\ud55c \ub370\uc774\ud130 \uc804\ucc98\ub9ac\n",
    "\n",
    "\ub370\uc774\ud130\uac00 \ubb38\uc790\uc5f4/\uc815\uc218/\uc2e4\uc218 \ub118\ud30c\uc774 \ubc30\uc5f4\uc774\uac70\ub098\n",
    "\ubb38\uc790\uc5f4/\uc815\uc218/\uc2e4\uc218 \ud150\uc11c\uc758 \ubc30\uce58\ub97c \ubc18\ud658\ud558\ub294 `Dataset` \uac1d\uccb4(\ub610\ub294 \ud30c\uc774\uc36c \uc81c\ub108\ub808\uc774\ud130)\ub85c \uc900\ube44\ub418\uc5c8\ub2e4\uba74\n",
    "\uc774\uc81c \ub370\uc774\ud130\ub97c **\uc804\ucc98\ub9ac**\ud560 \ucc28\ub840\uc785\ub2c8\ub2e4. \uc774 \uacfc\uc815\uc740 \ub2e4\uc74c\uacfc \uac19\uc740 \uc791\uc5c5\uc744 \uc758\ubbf8\ud569\ub2c8\ub2e4:\n",
    "\n",
    "- \ubb38\uc790\uc5f4 \ub370\uc774\ud130\ub97c \ud1a0\ud070\uc73c\ub85c \ub098\ub204\uace0 \uc778\ub371\uc2f1\ud569\ub2c8\ub2e4.\n",
    "- \ud2b9\uc131\uc744 \uc815\uaddc\ud654\ud569\ub2c8\ub2e4.\n",
    "- \ub370\uc774\ud130\ub97c \uc791\uc740 \uac12\uc73c\ub85c \uc2a4\ucf00\uc77c\uc744 \uc870\uc815\ud569\ub2c8\ub2e4(\uc77c\ubc18\uc801\uc73c\ub85c \uc2e0\uacbd\ub9dd\uc758 \uc785\ub825\uc740 0\uc5d0 \uac00\uae4c\uc6cc\uc57c \ud569\ub2c8\ub2e4.\n",
    "\ud3c9\uade0\uc774 0\uc774\uace0 \ubd84\uc0b0\uc774 1\uc774\uac70\ub098 `[0, 1]` \ubc94\uc704\uc758 \ub370\uc774\ud130\ub97c \uae30\ub300\ud569\ub2c8\ub2e4).\n",
    "\n",
    "### \uc774\uc0c1\uc801\uc778 \uba38\uc2e0\ub7ec\ub2dd \ubaa8\ub378\uc740 \uc5d4\ub4dc-\ud22c-\uc5d4\ub4dc \ubaa8\ub378\uc785\ub2c8\ub2e4\n",
    "\n",
    "\uc77c\ubc18\uc801\uc73c\ub85c \uac00\ub2a5\ud558\uba74 \ub370\uc774\ud130 \uc804\ucc98\ub9ac\ub97c \ubcc4\ub3c4\uc758 \ud30c\uc774\ud504\ub77c\uc778\uc73c\ub85c \ub9cc\ub4e4\uc9c0 \uc54a\uace0 **\ubaa8\ub378\uc758 \uc77c\ubd80**\uac00 \ub418\ub3c4\ub85d \ud574\uc57c \ud569\ub2c8\ub2e4.\n",
    "\ubcc4\ub3c4\uc758 \ub370\uc774\ud130 \uc804\ucc98\ub9ac \ud30c\uc774\ud504\ub77c\uc778\uc740 \ubaa8\ub378\uc744 \uc81c\ud488\uc5d0 \ud22c\uc785\ud560 \ub54c \uc774\uc2dd\ud558\uae30 \uc5b4\ub835\uac8c \ub9cc\ub4e4\uae30 \ub54c\ubb38\uc785\ub2c8\ub2e4.\n",
    "\ud14d\uc2a4\ud2b8 \ucc98\ub9ac\ub97c \ud558\ub294 \ubaa8\ub378\uc744 \uc0dd\uac01\ud574 \ubcf4\uc8e0.\n",
    "\uc774 \ubaa8\ub378\uc740 \ud2b9\ubcc4\ud55c \ud1a0\ud070\ud654 \uc54c\uace0\ub9ac\uc998\uacfc \uc5b4\ud718 \uc0ac\uc804 \uc778\ub371\uc2a4\ub97c \uc0ac\uc6a9\ud569\ub2c8\ub2e4.\n",
    "\uc774 \ubaa8\ub378\uc744 \ubaa8\ubc14\uc77c \uc571\uc774\ub098 \uc790\ubc14\uc2a4\ud06c\ub9bd\ud2b8 \uc571\uc5d0 \uc801\uc6a9\ud560 \ub54c \ud574\ub2f9 \uc5b8\uc5b4\ub85c \ub3d9\uc77c\ud55c \uc804\ucc98\ub9ac \uacfc\uc815\uc744 \ub2e4\uc2dc \uad6c\ud604\ud574\uc57c \ud569\ub2c8\ub2e4.\n",
    "\uc774\ub294 \ub9e4\uc6b0 \uc704\ud5d8\ud55c \uc791\uc5c5\uc785\ub2c8\ub2e4.\n",
    "\uc6d0\ub798 \ud30c\uc774\ud504\ub77c\uc778\uacfc \ub2e4\uc2dc \ub9cc\ub4e0 \ud30c\uc774\ud504\ub77c\uc778 \uc0ac\uc774\uc5d0 \uc791\uc740 \ucc28\uc774\uac00 \ubaa8\ub378\uc744 \uc644\uc804\ud788 \ub9dd\uac00\ub728\ub9ac\uac70\ub098\n",
    "\uc131\ub2a5\uc744 \ud06c\uac8c \ub0ae\ucd9c \uc218 \uc788\uae30 \ub54c\ubb38\uc785\ub2c8\ub2e4.\n",
    "\n",
    "\uc804\ucc98\ub9ac\ub97c \ud3ec\ud568\ud55c \uc5d4\ub4dc-\ud22c-\uc5d4\ub4dc(end-to-end) \ubaa8\ub378\ub85c \ub9cc\ub4e4 \uc218 \uc788\ub2e4\uba74 \ud6e8\uc52c \uac04\ub2e8\ud569\ub2c8\ub2e4.\n",
    "**\uc774\uc0c1\uc801\uc778 \ubaa8\ub378\uc740 \uac00\ub2a5\ud55c \uc6d0\uc2dc \ub370\uc774\ud130\uc5d0 \uac00\uae4c\uc6b4 \uc785\ub825\uc744 \uae30\ub300\ud574\uc57c \ud569\ub2c8\ub2e4.\n",
    "\uc774\ubbf8\uc9c0 \ubaa8\ub378\uc740 `[0, 255]` \uc0ac\uc774\uc758 RGB \ud53d\uc140 \uac12\uc744 \uae30\ub300\ud569\ub2c8\ub2e4.\n",
    "\ud14d\uc2a4\ud2b8 \ubaa8\ub378\uc740 `utf-8` \ubb38\uc790\uc5f4\uc744 \uae30\ub300\ud569\ub2c8\ub2e4.**\n",
    "\ub530\ub77c\uc11c \uc774 \ubaa8\ub378\uc744 \uc0ac\uc6a9\ud558\ub294 \uc560\ud50c\ub9ac\ucf00\uc774\uc158\uc740 \uc804\ucc98\ub9ac \ud30c\uc774\ud504\ub77c\uc778\uc5d0 \ub300\ud574 \uc2e0\uacbd\uc4f8 \ud544\uc694\uac00 \uc5c6\uc2b5\ub2c8\ub2e4.\n",
    "\n",
    "### \ucf00\ub77c\uc2a4 \uc804\ucc98\ub9ac \uce35 \uc0ac\uc6a9\ud558\uae30\n",
    "\n",
    "\ucf00\ub77c\uc2a4\uc5d0\uc11c\ub294 **\uc804\ucc98\ub9ac \uce35**\uc73c\ub85c \ubaa8\ub378\uc5d0\uc11c \ub370\uc774\ud130 \uc804\ucc98\ub9ac\ub97c \uc218\ud589\ud569\ub2c8\ub2e4.\n",
    "\ub2e4\uc74c\uacfc \uac19\uc740 \uae30\ub2a5\uc744 \uc81c\uacf5\ud569\ub2c8\ub2e4:\n",
    "\n",
    "- `TextVectorization` \uce35\uc73c\ub85c \ud14d\uc2a4\ud2b8 \uc6d0\uc2dc \ubb38\uc790\uc5f4\uc744 \ubca1\ud130\ud654\ud569\ub2c8\ub2e4.\n",
    "- `Normalization` \uce35\uc73c\ub85c \ud2b9\uc131\uc744 \uc815\uaddc\ud654\ud569\ub2c8\ub2e4.\n",
    "- \uc774\ubbf8\uc9c0 \uc2a4\ucf00\uc77c \uc870\uc815, \uc790\ub974\uae30, \ub370\uc774\ud130 \uc99d\uc2dd\uc744 \uc218\ud589\ud569\ub2c8\ub2e4.\n",
    "\n",
    "\ucf00\ub77c\uc2a4 \uc804\ucc98\ub9ac \uce35\uc744 \uc0ac\uc6a9\ud560 \ub54c \uac00\uc7a5 \ud070 \uc7a5\uc810\uc740 \ud6c8\ub828\ud558\ub294 \uc911\uac04\uc774\ub098 \ud6c8\ub828\uc774 \ub05d\ub09c \ud6c4\uc5d0\n",
    "\uc774 \uce35\uc744 **\ubaa8\ub378\uc5d0 \uc9c1\uc811 \ud3ec\ud568\ud558\uc5ec** \ubaa8\ub378\uc758 \uc774\uc2dd\uc131\uc744 \ub192\uc77c \uc218 \uc788\ub2e4\ub294 \uc810\uc785\ub2c8\ub2e4.\n",
    "\n",
    "\uc77c\ubd80 \uc804\ucc98\ub9ac \uce35\uc740 \uc0c1\ud0dc\ub97c \uac00\uc9d1\ub2c8\ub2e4:\n",
    "\n",
    "- `TextVectorization`\ub294 \uc815\uc218 \uc778\ub371\uc2a4\ub85c \ub9e4\ud551\ub41c \ub2e8\uc5b4\ub098 \ud1a0\ud070\uc744 \uc800\uc7a5\ud569\ub2c8\ub2e4.\n",
    "- `Normalization`\ub294 \ud2b9\uc131\uc758 \ud3c9\uade0\uacfc \ubd84\uc0b0\uc744 \uc800\uc7a5\ud569\ub2c8\ub2e4.\n",
    "\n",
    "\ud6c8\ub828 \ub370\uc774\ud130\uc758 \uc0d8\ud50c(\ub610\ub294 \uc804\uccb4 \ub370\uc774\ud130)\uc744 \uc0ac\uc6a9\ud574 `layer.adapt(data)`\ub97c \ud638\ucd9c\ud558\uba74 \uc804\ucc98\ub9ac \uce35\uc758 \uc0c1\ud0dc\uac00 \ubc18\ud658\ub429\ub2c8\ub2e4.\n",
    "\n",
    "\n",
    "**\uc608\uc81c: \ubb38\uc790\uc5f4\uc744 \uc815\uc218 \ub2e8\uc5b4 \uc778\ub371\uc2a4\uc758 \uc2dc\ud000\uc2a4\ub85c \ubcc0\ud658\ud558\uae30**\n",
    ""
   ]
  },
  {
   "cell_type": "code",
   "execution_count": 0,
   "metadata": {
    "colab_type": "code"
   },
   "outputs": [],
   "source": [
    "from tensorflow.keras.layers.experimental.preprocessing import TextVectorization\n",
    "\n",
    "# dtype\uc774 `string`\uc778 \uc608\uc81c \ud6c8\ub828 \ub370\uc774\ud130.\n",
    "training_data = np.array([[\"This is the 1st sample.\"], [\"And here's the 2nd sample.\"]])\n",
    "\n",
    "# TextVectorization \uce35 \uac1d\uccb4\ub97c \ub9cc\ub4ed\ub2c8\ub2e4.\n",
    "# \uc815\uc218 \ud1a0\ud070 \uc778\ub371\uc2a4 \ub610\ub294 \ud1a0\ud070\uc758 \ubc00\uc9d1 \ud45c\ud604(\uc608\ub97c \ub4e4\uc5b4 \uba40\ud2f0-\ud56b(multi-hot)\uc774\ub098 TF-IDF)\uc744 \ubc18\ud658\ud560 \uc218 \uc788\uc2b5\ub2c8\ub2e4.\n",
    "# \ud14d\uc2a4\ud2b8 \ud45c\uc900\ud654\uc640 \ud14d\uc2a4\ud2b8 \ubd84\ud560 \uc54c\uace0\ub9ac\uc998\uc744 \uc644\uc804\ud788 \ucee4\uc2a4\ud130\ub9c8\uc774\uc9d5\ud560 \uc218 \uc788\uc2b5\ub2c8\ub2e4.\n",
    "vectorizer = TextVectorization(output_mode=\"int\")\n",
    "\n",
    "# \ubc30\uc5f4\uc774\ub098 \ub370\uc774\ud130\uc14b\uc5d0 \ub300\ud574 `adapt` \uba54\uc11c\ub4dc\ub97c \ud638\ucd9c\ud558\uba74 \uc5b4\ud718 \uc778\ub371\uc2a4\ub97c \uc0dd\uc131\ud569\ub2c8\ub2e4.\n",
    "# \uc774 \uc5b4\ud718 \uc778\ub371\uc2a4\ub294 \uc0c8\ub85c\uc6b4 \ub370\uc774\ud130\ub97c \ucc98\ub9ac\ud560 \ub54c \uc7ac\uc0ac\uc6a9\ub429\ub2c8\ub2e4.\n",
    "vectorizer.adapt(training_data)\n",
    "\n",
    "# `adapt`\ub97c \ud638\ucd9c\ud558\uace0 \ub098\uba74 \uc774 \uba54\uc11c\ub4dc\uac00 \ub370\uc774\ud130\uc5d0\uc11c \ubcf4\uc558\ub358 n-\uadf8\ub7a8(n-gram)\uc744 \uc778\ucf54\ub529\ud560 \uc218 \uc788\uc2b5\ub2c8\ub2e4.\n",
    "# \ubcf8\uc801 \uc5c6\ub294 n-\uadf8\ub7a8\uc740 OOB(out-of-vocabulary) \ud1a0\ud070\uc73c\ub85c \uc778\ucf54\ub529\ub429\ub2c8\ub2e4.\n",
    "integer_data = vectorizer(training_data)\n",
    "print(integer_data)"
   ]
  },
  {
   "cell_type": "markdown",
   "metadata": {
    "colab_type": "text"
   },
   "source": [
    "**\uc608\uc81c: \ubb38\uc790\uc5f4\uc744 \uc6d0-\ud56b \uc778\ucf54\ub529\ub41c \ubc14\uc774\uadf8\ub7a8(bigram) \uc2dc\ud000\uc2a4\ub85c \ubcc0\ud658\ud558\uae30**"
   ]
  },
  {
   "cell_type": "code",
   "execution_count": 0,
   "metadata": {
    "colab_type": "code"
   },
   "outputs": [],
   "source": [
    "from tensorflow.keras.layers.experimental.preprocessing import TextVectorization\n",
    "\n",
    "# dtype\uc774 `string`\uc778 \uc608\uc81c \ud6c8\ub828 \ub370\uc774\ud130.\n",
    "training_data = np.array([[\"This is the 1st sample.\"], [\"And here's the 2nd sample.\"]])\n",
    "\n",
    "# TextVectorization \uce35 \uac1d\uccb4\ub97c \ub9cc\ub4ed\ub2c8\ub2e4.\n",
    "# \uc815\uc218 \ud1a0\ud070 \uc778\ub371\uc2a4 \ub610\ub294 \ud1a0\ud070\uc758 \ubc00\uc9d1 \ud45c\ud604(\uc608\ub97c \ub4e4\uc5b4 \uba40\ud2f0-\ud56b(multi-hot)\uc774\ub098 TF-IDF)\uc744 \ubc18\ud658\ud560 \uc218 \uc788\uc2b5\ub2c8\ub2e4.\n",
    "# return integer token indices, or a dense token representation (e.g. multi-hot\n",
    "# \ud14d\uc2a4\ud2b8 \ud45c\uc900\ud654\uc640 \ud14d\uc2a4\ud2b8 \ubd84\ud560 \uc54c\uace0\ub9ac\uc998\uc744 \uc644\uc804\ud788 \ucee4\uc2a4\ud130\ub9c8\uc774\uc9d5\ud560 \uc218 \uc788\uc2b5\ub2c8\ub2e4.\n",
    "vectorizer = TextVectorization(output_mode=\"binary\", ngrams=2)\n",
    "\n",
    "# \ubc30\uc5f4\uc774\ub098 \ub370\uc774\ud130\uc14b\uc5d0 \ub300\ud574 `adapt` \uba54\uc11c\ub4dc\ub97c \ud638\ucd9c\ud558\uba74 \uc5b4\ud718 \uc778\ub371\uc2a4\ub97c \uc0dd\uc131\ud569\ub2c8\ub2e4.\n",
    "# \uc774 \uc5b4\ud718 \uc778\ub371\uc2a4\ub294 \uc0c8\ub85c\uc6b4 \ub370\uc774\ud130\ub97c \ucc98\ub9ac\ud560 \ub54c \uc7ac\uc0ac\uc6a9\ub429\ub2c8\ub2e4.\n",
    "vectorizer.adapt(training_data)\n",
    "\n",
    "# `adapt`\ub97c \ud638\ucd9c\ud558\uace0 \ub098\uba74 \uc774 \uba54\uc11c\ub4dc\uac00 \ub370\uc774\ud130\uc5d0\uc11c \ubcf4\uc558\ub358 n-\uadf8\ub7a8(n-gram)\uc744 \uc778\ucf54\ub529\ud560 \uc218 \uc788\uc2b5\ub2c8\ub2e4.\n",
    "# \ubcf8\uc801 \uc5c6\ub294 n-\uadf8\ub7a8\uc740 OOB(out-of-vocabulary) \ud1a0\ud070\uc73c\ub85c \uc778\ucf54\ub529\ub429\ub2c8\ub2e4.\n",
    "integer_data = vectorizer(training_data)\n",
    "print(integer_data)"
   ]
  },
  {
   "cell_type": "markdown",
   "metadata": {
    "colab_type": "text"
   },
   "source": [
    "**\uc608\uc81c: \ud2b9\uc131 \uc815\uaddc\ud654**"
   ]
  },
  {
   "cell_type": "code",
   "execution_count": 0,
   "metadata": {
    "colab_type": "code"
   },
   "outputs": [],
   "source": [
    "from tensorflow.keras.layers.experimental.preprocessing import Normalization\n",
    "\n",
    "# [0, 255] \uc0ac\uc774\uc758 \uac12\uc744 \uac00\uc9c4 \uc608\uc81c \uc774\ubbf8\uc9c0 \ub370\uc774\ud130\n",
    "training_data = np.random.randint(0, 256, size=(64, 200, 200, 3)).astype(\"float32\")\n",
    "\n",
    "normalizer = Normalization(axis=-1)\n",
    "normalizer.adapt(training_data)\n",
    "\n",
    "normalized_data = normalizer(training_data)\n",
    "print(\"\ubd84\uc0b0: %.4f\" % np.var(normalized_data))\n",
    "print(\"\ud3c9\uade0: %.4f\" % np.mean(normalized_data))"
   ]
  },
  {
   "cell_type": "markdown",
   "metadata": {
    "colab_type": "text"
   },
   "source": [
    "**\uc608\uc81c: \uc774\ubbf8\uc9c0 \uc2a4\ucf00\uc77c \uc870\uc815\uacfc \uc790\ub974\uae30**\n",
    "\n",
    "`Rescaling` \uce35\uacfc `CenterCrop` \uce35\uc740 \uc0c1\ud0dc\uac00 \uc5c6\uc2b5\ub2c8\ub2e4.\n",
    "\ub530\ub77c\uc11c `adapt()` \uba54\uc11c\ub4dc\ub97c \ud638\ucd9c\ud560 \ud544\uc694\uac00 \uc5c6\uc2b5\ub2c8\ub2e4."
   ]
  },
  {
   "cell_type": "code",
   "execution_count": 0,
   "metadata": {
    "colab_type": "code"
   },
   "outputs": [],
   "source": [
    "from tensorflow.keras.layers.experimental.preprocessing import CenterCrop\n",
    "from tensorflow.keras.layers.experimental.preprocessing import Rescaling\n",
    "\n",
    "# [0, 255] \uc0ac\uc774\uc758 \uac12\uc744 \uac00\uc9c4 \uc608\uc81c \uc774\ubbf8\uc9c0 \ub370\uc774\ud130\n",
    "training_data = np.random.randint(0, 256, size=(64, 200, 200, 3)).astype(\"float32\")\n",
    "\n",
    "cropper = CenterCrop(height=150, width=150)\n",
    "scaler = Rescaling(scale=1.0 / 255)\n",
    "\n",
    "output_data = scaler(cropper(training_data))\n",
    "print(\"\ud06c\uae30:\", output_data.shape)\n",
    "print(\"\ucd5c\uc18c:\", np.min(output_data))\n",
    "print(\"\ucd5c\ub300:\", np.max(output_data))"
   ]
  },
  {
   "cell_type": "markdown",
   "metadata": {
    "colab_type": "text"
   },
   "source": [
    "## \ucf00\ub77c\uc2a4 \ud568\uc218\ud615 API\ub85c \ubaa8\ub378\uc744 \ub9cc\ub4e4\uae30\n",
    "\n",
    "\"\uce35\"\uc740 (\uc704\uc758 \uc2a4\ucf00\uc77c \uc870\uc815\uc774\ub098 \uc790\ub974\uae30\ucc98\ub7fc) \ub2e8\uc21c\ud55c \uc785\ub825-\ucd9c\ub825 \ubcc0\ud658\uc785\ub2c8\ub2e4.\n",
    "\uc608\ub97c \ub4e4\uc5b4 \ub2e4\uc74c\uc740 \uc785\ub825\uc744 16\ucc28\uc6d0 \ud2b9\uc131 \uacf5\uac04\uc73c\ub85c \ub9e4\ud551\ud558\ub294 \uc120\ud615 \ubcc0\ud658 \uce35\uc785\ub2c8\ub2e4:\n",
    "\n",
    "```python\n",
    "dense = keras.layers.Dense(units=16)\n",
    "```\n",
    "\n",
    "\"\ubaa8\ub378\"\uc740 \uce35\uc758 \uc720\ud5a5 \ube44\uc21c\ud658 \uadf8\ub798\ud504(directed acyclic graph)\uc785\ub2c8\ub2e4.\n",
    "\ubaa8\ub378\uc744 \uc5ec\ub7ec \ud558\uc704 \uce35\uc744 \uac10\uc2f8\uace0 \uc788\uace0 \ub370\uc774\ud130\uc5d0 \ub178\ucd9c\ub418\uc5b4 \ud6c8\ub828\ud560 \uc218 \uc788\ub294 \"\ud070 \uce35\"\uc73c\ub85c \uc0dd\uac01\ud560 \uc218 \uc788\uc2b5\ub2c8\ub2e4.\n",
    "\n",
    "\ucf00\ub77c\uc2a4 \ubaa8\ub378\uc744 \ub9cc\ub4e4 \ub54c \uac00\uc7a5 \uac15\ub825\ud558\uace0 \ub110\ub9ac \uc0ac\uc6a9\ud558\ub294 \ubc29\ubc95\uc740 \ud568\uc218\ud615 API(Functional API)\uc785\ub2c8\ub2e4.\n",
    "\ud568\uc218\ud615 API\ub85c \ubaa8\ub378\uc744 \ub9cc\ub4e4\ub824\uba74 \uba3c\uc800 \uc785\ub825\uc758 \ud06c\uae30(\uadf8\ub9ac\uace0 \uc120\ud0dd\uc801\uc73c\ub85c dtype)\ub97c \uc9c0\uc815\ud574\uc57c \ud569\ub2c8\ub2e4.\n",
    "\uc785\ub825 \ucc28\uc6d0\uc774 \ubcc0\uacbd\ub420 \uc218 \uc788\uc73c\uba74 `None`\uc73c\ub85c \uc9c0\uc815\ud569\ub2c8\ub2e4.\n",
    "\uc608\ub97c \ub4e4\uc5b4 200x200 RGB \uc774\ubbf8\uc9c0\uc758 \uc785\ub825 \ud06c\uae30\ub294 `(200, 200, 3)`\ub85c \uc9c0\uc815\ud558\uace0\n",
    "\uc784\uc758\uc758 \ud06c\uae30\ub97c \uac00\uc9c4 RGB \uc774\ubbf8\uc9c0\uc758 \uc785\ub825 \ud06c\uae30\ub294 `(None, None, 3)`\uc73c\ub85c \uc9c0\uc815\ud569\ub2c8\ub2e4."
   ]
  },
  {
   "cell_type": "code",
   "execution_count": 0,
   "metadata": {
    "colab_type": "code"
   },
   "outputs": [],
   "source": [
    "# \uc784\uc758\uc758 \ud06c\uae30\ub97c \uac00\uc9c4 RGB \uc774\ubbf8\uc9c0 \uc785\ub825\uc744 \uc0ac\uc6a9\ud55c\ub2e4\uace0 \uac00\uc815\ud574 \ubcf4\uc8e0.\n",
    "inputs = keras.Input(shape=(None, None, 3))"
   ]
  },
  {
   "cell_type": "markdown",
   "metadata": {
    "colab_type": "text"
   },
   "source": [
    "\uc785\ub825\uc744 \uc815\uc758\ud55c \ud6c4 \uc774 \uc785\ub825\uc5d0\uc11c \ucd5c\uc885 \ucd9c\ub825\uae4c\uc9c0 \uce35 \ubcc0\ud658\uc744 \uc5f0\uacb0\ud569\ub2c8\ub2e4:"
   ]
  },
  {
   "cell_type": "code",
   "execution_count": 0,
   "metadata": {
    "colab_type": "code"
   },
   "outputs": [],
   "source": [
    "from tensorflow.keras import layers\n",
    "\n",
    "# 150x150 \uc911\uc559 \ubd80\ubd84\uc744 \uc624\ub824\ub0c5\ub2c8\ub2e4.\n",
    "x = CenterCrop(height=150, width=150)(inputs)\n",
    "# [0, 1] \uc0ac\uc774\ub85c \uc774\ubbf8\uc9c0 \uc2a4\ucf00\uc77c\uc744 \uc870\uc815\ud569\ub2c8\ub2e4.\n",
    "x = Rescaling(scale=1.0 / 255)(x)\n",
    "\n",
    "# \ud569\uc131\uacf1\uacfc \ud480\ub9c1 \uce35\uc744 \uc801\uc6a9\ud569\ub2c8\ub2e4.\n",
    "x = layers.Conv2D(filters=32, kernel_size=(3, 3), activation=\"relu\")(x)\n",
    "x = layers.MaxPooling2D(pool_size=(3, 3))(x)\n",
    "x = layers.Conv2D(filters=32, kernel_size=(3, 3), activation=\"relu\")(x)\n",
    "x = layers.MaxPooling2D(pool_size=(3, 3))(x)\n",
    "x = layers.Conv2D(filters=32, kernel_size=(3, 3), activation=\"relu\")(x)\n",
    "\n",
    "# \uc804\uc5ed \ud480\ub9c1 \uce35\uc744 \uc801\uc6a9\ud558\uc5ec \uc77c\ub82c\ub85c \ud3bc\uce5c \ud2b9\uc131 \ubca1\ud130\ub97c \uc5bb\uc2b5\ub2c8\ub2e4.\n",
    "x = layers.GlobalAveragePooling2D()(x)\n",
    "\n",
    "# \uadf8 \ub2e4\uc74c\uc5d0 \ubd84\ub958\ub97c \uc704\ud574 \ubc00\uc9d1 \uce35\uc744 \ucd94\uac00\ud569\ub2c8\ub2e4.\n",
    "num_classes = 10\n",
    "outputs = layers.Dense(num_classes, activation=\"softmax\")(x)"
   ]
  },
  {
   "cell_type": "markdown",
   "metadata": {
    "colab_type": "text"
   },
   "source": [
    "\uc785\ub825\uc744 \ucd9c\ub825\uc73c\ub85c \ubc14\uafb8\ub294 \uce35\uc758 \uc720\ud5a5 \ube44\uc21c\ud658 \uadf8\ub798\ud504\ub97c \uc815\uc758\ud558\uace0 \ub098\uc11c `Model` \uac1d\uccb4\ub97c \ub9cc\ub4ed\ub2c8\ub2e4:"
   ]
  },
  {
   "cell_type": "code",
   "execution_count": 0,
   "metadata": {
    "colab_type": "code"
   },
   "outputs": [],
   "source": [
    "model = keras.Model(inputs=inputs, outputs=outputs)"
   ]
  },
  {
   "cell_type": "markdown",
   "metadata": {
    "colab_type": "text"
   },
   "source": [
    "\uc774 \ubaa8\ub378\uc740 \uae30\ubcf8\uc801\uc73c\ub85c \ud070 \uce35\ucc98\ub7fc \ub3d9\uc791\ud569\ub2c8\ub2e4. \ub2e4\uc74c\ucc98\ub7fc \ubc30\uce58 \ub370\uc774\ud130\uc5d0\uc11c \ubaa8\ub378\uc744 \ud638\ucd9c\ud560 \uc218 \uc788\uc2b5\ub2c8\ub2e4:"
   ]
  },
  {
   "cell_type": "code",
   "execution_count": 0,
   "metadata": {
    "colab_type": "code"
   },
   "outputs": [],
   "source": [
    "data = np.random.randint(0, 256, size=(64, 200, 200, 3)).astype(\"float32\")\n",
    "processed_data = model(data)\n",
    "print(processed_data.shape)"
   ]
  },
  {
   "cell_type": "markdown",
   "metadata": {
    "colab_type": "text"
   },
   "source": [
    "\ubaa8\ub378\uc758 \uac01 \ub2e8\uacc4\uc5d0\uc11c \ub370\uc774\ud130\uac00 \uc5b4\ub5bb\uac8c \ubcc0\ud658\ub418\ub294\uc9c0 \uc694\uc57d \uc815\ubcf4\ub97c \ucd9c\ub825\ud558\uba74 \ub514\ubc84\uae45\uc5d0 \ub3c4\uc6c0\uc774 \ub429\ub2c8\ub2e4.\n",
    "\n",
    "\uac01 \uce35\uc5d0 \ud45c\uc2dc\ub418\ub294 \ucd9c\ub825 \ud06c\uae30\ub294 **\ubc30\uce58 \ud06c\uae30**\ub97c \ud3ec\ud568\ud569\ub2c8\ub2e4.\n",
    "\ubc30\uce58 \ud06c\uae30\uac00 `None`\uc774\uba74 \uc774 \ubaa8\ub378\uc774 \uc5b4\ub5a4 \ud06c\uae30\uc758 \ubc30\uce58\ub3c4 \ucc98\ub9ac\ud560 \uc218 \uc788\ub2e4\ub294 \uc758\ubbf8\uc785\ub2c8\ub2e4."
   ]
  },
  {
   "cell_type": "code",
   "execution_count": 0,
   "metadata": {
    "colab_type": "code"
   },
   "outputs": [],
   "source": [
    "model.summary()"
   ]
  },
  {
   "cell_type": "markdown",
   "metadata": {
    "colab_type": "text"
   },
   "source": [
    "\ud568\uc218\ud615 API\ub294 \uc5ec\ub7ec \uac1c\uc758 \uc785\ub825(\uc608\ub97c \ub4e4\uc5b4 \uc774\ubbf8\uc9c0\uc640 \uba54\ud0c0\ub370\uc774\ud130)\uc774\ub098\n",
    "\uc5ec\ub7ec \uac1c\uc758 \ucd9c\ub825(\uc608\ub97c \ub4e4\uc5b4 \uc774\ubbf8\uc9c0 \ud074\ub798\uc2a4\uc640 \ud074\ub9ad \ud655\ub960\uc744 \uc608\uce21)\uc744 \uc0ac\uc6a9\ud558\ub294 \ubaa8\ub378\ub3c4 \uc27d\uac8c \ub9cc\ub4e4 \uc218 \uc788\uc2b5\ub2c8\ub2e4.\n",
    "\uc774\uc5d0 \ub300\ud574 \ub354 \uc790\uc138\ud55c \uc815\ubcf4\ub294 [\ud568\uc218\ud615 API \uac00\uc774\ub4dc](/guides/functional_api/)\ub97c \ucc38\uace0\ud558\uc138\uc694."
   ]
  },
  {
   "cell_type": "markdown",
   "metadata": {
    "colab_type": "text"
   },
   "source": [
    "## `fit()`\uc73c\ub85c \ubaa8\ub378 \ud6c8\ub828\ud558\uae30\n",
    "\n",
    "\uc9c0\uae08\uae4c\uc9c0 \ub2e4\uc74c \ub0b4\uc6a9\uc744 \ubc30\uc6e0\uc2b5\ub2c8\ub2e4:\n",
    "\n",
    "- \ub370\uc774\ud130\ub97c \uc900\ube44\ud558\ub294 \ubc29\ubc95(\uc608\ub97c \ub4e4\uc5b4 \ub118\ud30c\uc774 \ubc30\uc5f4\uc774\ub098 `tf.data.Dataset` \uac1d\uccb4)\n",
    "- \ub370\uc774\ud130\ub97c \ucc98\ub9ac\ud560 \ubaa8\ub378\uc744 \ub9cc\ub4dc\ub294 \ubc29\ubc95\n",
    "\n",
    "\ub2e4\uc74c \ub2e8\uacc4\ub294 \ub370\uc774\ud130\uc5d0\uc11c \ubaa8\ub378\uc744 \ud6c8\ub828\ud558\ub294 \uac83\uc785\ub2c8\ub2e4.\n",
    "`Model` \ud074\ub798\uc2a4\ub294 `fit()` \uba54\uc11c\ub4dc\uc5d0\uc11c \ud6c8\ub828\uc744 \ubc18\ubcf5\ud569\ub2c8\ub2e4.\n",
    "\uc774 \uba54\uc11c\ub4dc\ub294 `Dataset` \uac1d\uccb4, \ubc30\uce58 \ub370\uc774\ud130\ub97c \ubc18\ud658\ud558\ub294 \ud30c\uc774\uc36c \uc81c\ub108\ub808\uc774\ud130, \ub118\ud30c\uc774 \ubc30\uc5f4\uc744 \ubc1b\uc2b5\ub2c8\ub2e4.\n",
    "\n",
    "`fit()` \uba54\uc11c\ub4dc\ub97c \ud638\ucd9c\ud558\uae30 \uc804\uc5d0 \uc635\ud2f0\ub9c8\uc774\uc800\uc640 \uc190\uc2e4 \ud568\uc218\ub97c \uc9c0\uc815\ud574\uc57c \ud569\ub2c8\ub2e4(\uc5ec\ub7ec\ubd84\uc774\n",
    "\uc774\ub7f0 \uac1c\ub150\uc744 \uc774\ubbf8 \uc54c\uace0 \uc788\ub2e4\uace0 \uac00\uc815\ud558\uaca0\uc2b5\ub2c8\ub2e4). \uc774\uac83\uc774 `compile()` \ub2e8\uacc4\uc785\ub2c8\ub2e4:\n",
    "\n",
    "```python\n",
    "model.compile(optimizer=keras.optimizers.RMSprop(learning_rate=1e-3),\n",
    "              loss=keras.losses.CategoricalCrossentropy())\n",
    "```\n",
    "\n",
    "\uc190\uc2e4 \ud568\uc218\uc640 \uc635\ud2f0\ub9c8\uc774\uc800\ub294 \ubb38\uc790\uc5f4\ub85c \uc9c0\uc815\ud560 \uc218 \uc788\uc2b5\ub2c8\ub2e4(\uae30\ubcf8 \uc0dd\uc131\uc790 \ub9e4\uac1c\ubcc0\uc218\uac00 \uc0ac\uc6a9\ub429\ub2c8\ub2e4):\n",
    "\n",
    "\n",
    "```python\n",
    "model.compile(optimizer='rmsprop', loss='categorical_crossentropy')\n",
    "```\n",
    "\n",
    "\ubaa8\ub378\uc774 \ucef4\ud30c\uc77c\ub418\uba74 \ub370\uc774\ud130\uc5d0\uc11c \"\ud6c8\ub828\"\uc744 \uc2dc\uc791\ud560 \uc218 \uc788\uc2b5\ub2c8\ub2e4.\n",
    "\ub2e4\uc74c\uc740 \ub118\ud30c\uc774 \ub370\uc774\ud130\ub97c \uc0ac\uc6a9\ud574 \ubaa8\ub378\uc744 \ud6c8\ub828\ud558\ub294 \uc608\uc785\ub2c8\ub2e4:\n",
    "\n",
    "```python\n",
    "model.fit(numpy_array_of_samples, numpy_array_of_labels,\n",
    "          batch_size=32, epochs=10)\n",
    "```\n",
    "\n",
    "\ub370\uc774\ud130 \uc678\uc5d0\ub3c4 \ub450 \uac1c\uc758 \ud575\uc2ec \ub9e4\uac1c\ubcc0\uc218\ub97c \uc9c0\uc815\ud574\uc57c \ud569\ub2c8\ub2e4.\n",
    "`batch_size`\uc640 \uc5d0\ud3ec\ud06c \ud69f\uc218(\ub370\uc774\ud130\ub97c \ubc18\ubcf5\ud560 \ud69f\uc218)\uc785\ub2c8\ub2e4.\n",
    "\uc5ec\uae30\uc5d0\uc11c\ub294 \ub370\uc774\ud130\ub97c 32\uac1c \uc0d8\ud50c\uc529 \ubc30\uce58\ub85c \ub098\ub204\uc5b4 \uc0ac\uc6a9\ud558\uace0 \ud6c8\ub828\ud558\ub294 \ub3d9\uc548 \uc804\uccb4 \ub370\uc774\ud130\uc5d0 \ub300\ud574 10\ubc88 \ubc18\ubcf5\ud569\ub2c8\ub2e4.\n",
    "\n",
    "\ub2e4\uc74c\uc740 \ub370\uc774\ud130\uc14b\uc744 \uc0ac\uc6a9\ud574 \ubaa8\ub378\uc744 \ud6c8\ub828\ud558\ub294 \uc608\uc785\ub2c8\ub2e4:\n",
    "\n",
    "```python\n",
    "model.fit(dataset_of_samples_and_labels, epochs=10)\n",
    "```\n",
    "\n",
    "\ub370\uc774\ud130\uc14b\uc740 \ubc30\uce58 \ub370\uc774\ud130\ub97c \ubc18\ud658\ud558\uae30 \ub54c\ubb38\uc5d0 \ubc30\uce58 \ud06c\uae30\ub97c \uc9c0\uc815\ud560 \ud544\uc694\uac00 \uc5c6\uc2b5\ub2c8\ub2e4.\n",
    "\n",
    "MNIST \uc22b\uc790\ub97c \ubd84\ub958\ud558\ub294 \uc791\uc740 \uc608\uc81c \ubaa8\ub378\uc744 \ub9cc\ub4e4\uc5b4 \ubcf4\uaca0\uc2b5\ub2c8\ub2e4:"
   ]
  },
  {
   "cell_type": "code",
   "execution_count": 0,
   "metadata": {
    "colab_type": "code"
   },
   "outputs": [],
   "source": [
    "# \ub118\ud30c\uc774 \ubc30\uc5f4\ub85c \ub370\uc774\ud130\ub97c \uac00\uc838\uc635\ub2c8\ub2e4.\n",
    "(x_train, y_train), (x_test, y_test) = keras.datasets.mnist.load_data()\n",
    "\n",
    "# \uac04\ub2e8\ud55c \ubaa8\ub378\uc744 \ub9cc\ub4ed\ub2c8\ub2e4.\n",
    "inputs = keras.Input(shape=(28, 28))\n",
    "x = layers.experimental.preprocessing.Rescaling(1.0 / 255)(inputs)\n",
    "x = layers.Flatten()(x)\n",
    "x = layers.Dense(128, activation=\"relu\")(x)\n",
    "x = layers.Dense(128, activation=\"relu\")(x)\n",
    "outputs = layers.Dense(10, activation=\"softmax\")(x)\n",
    "model = keras.Model(inputs, outputs)\n",
    "model.summary()\n",
    "\n",
    "# \ubaa8\ub378\uc744 \ucef4\ud30c\uc77c\ud569\ub2c8\ub2e4.\n",
    "model.compile(optimizer=\"adam\", loss=\"sparse_categorical_crossentropy\")\n",
    "\n",
    "# \ub118\ud30c\uc774 \ub370\uc774\ud130\uc5d0\uc11c 1 \uc5d0\ud3ec\ud06c \ub3d9\uc548 \ubaa8\ub378\uc744 \ud6c8\ub828\ud569\ub2c8\ub2e4.\n",
    "batch_size = 64\n",
    "print(\"\ub118\ud30c\uc774 \ub370\uc774\ud130\uc5d0\uc11c \ud6c8\ub828\ud558\uae30\")\n",
    "history = model.fit(x_train, y_train, batch_size=batch_size, epochs=1)\n",
    "\n",
    "# \ub370\uc774\ud130\uc14b\uc744 \uc0ac\uc6a9\ud574 1 \uc5d0\ud3ec\ud06c \ub3d9\uc548 \ubaa8\ub378\uc744 \ud6c8\ub828\ud569\ub2c8\ub2e4.\n",
    "dataset = tf.data.Dataset.from_tensor_slices((x_train, y_train)).batch(batch_size)\n",
    "print(\"\ub370\uc774\ud130\uc14b\uc5d0\uc11c \ud6c8\ub828\ud558\uae30\")\n",
    "history = model.fit(dataset, epochs=1)"
   ]
  },
  {
   "cell_type": "markdown",
   "metadata": {
    "colab_type": "text"
   },
   "source": [
    "`fit()` \uba54\uc11c\ub4dc\ub294 \ud6c8\ub828 \ub3d9\uc548 \ubc1c\uc0dd\ud558\ub294 \uc815\ubcf4\ub97c \uae30\ub85d\ud55c \"history\" \uac1d\uccb4\ub97c \ubc18\ud658\ud569\ub2c8\ub2e4.\n",
    "`history.history` \ub515\uc154\ub108\ub9ac\ub294 \uc5d0\ud3ec\ud06c \uc21c\uc11c\ub300\ub85c \uce21\uc815 \uac12\uc744 \ub2f4\uace0 \uc788\uc2b5\ub2c8\ub2e4(\uc5ec\uae30\uc5d0\uc11c\ub294\n",
    "\uc190\uc2e4 \ud558\ub098\uc640 \uc5d0\ud3ec\ud06c \ud69f\uc218\uac00 1\uc774\ubbc0\ub85c \ud558\ub098\uc758 \uc2a4\uce7c\ub77c \uac12\ub9cc \ub2f4\uace0 \uc788\uc2b5\ub2c8\ub2e4):"
   ]
  },
  {
   "cell_type": "code",
   "execution_count": 0,
   "metadata": {
    "colab_type": "code"
   },
   "outputs": [],
   "source": [
    "print(history.history)"
   ]
  },
  {
   "cell_type": "markdown",
   "metadata": {
    "colab_type": "text"
   },
   "source": [
    "`fit()` \uba54\uc11c\ub4dc\ub97c \uc0ac\uc6a9\ud558\ub294 \uc790\uc138\ud55c \ubc29\ubc95\uc740\n",
    "[\ucf00\ub77c\uc2a4 \ub0b4\uc7a5 \uba54\uc11c\ub4dc\ub97c \uc0ac\uc6a9\ud55c \ud6c8\ub828\uacfc \ud3c9\uac00 \uac00\uc774\ub4dc](/guides/training_with_built_in_methods/)\ub97c\n",
    "\ucc38\uace0\ud558\uc138\uc694."
   ]
  },
  {
   "cell_type": "markdown",
   "metadata": {
    "colab_type": "text"
   },
   "source": [
    "### \uc131\ub2a5 \uc9c0\ud45c \uae30\ub85d\ud558\uae30\n",
    "\n",
    "\ubaa8\ub378\uc744 \ud6c8\ub828\ud558\uba74\uc11c \ubd84\ub958 \uc815\ud655\ub3c4, \uc815\ubc00\ub3c4, \uc7ac\ud604\uc728, AUC\uc640 \uac19\uc740 \uc9c0\ud45c\ub97c \uae30\ub85d\ud560 \ud544\uc694\uac00 \uc788\uc2b5\ub2c8\ub2e4.\n",
    "\uc774\uc678\uc5d0\ub3c4 \ud6c8\ub828 \ub370\uc774\ud130\uc5d0 \ub300\ud55c \uc9c0\ud45c\ubfd0\ub9cc \uc544\ub2c8\ub77c \uac80\uc99d \uc138\ud2b8\uc5d0 \ub300\ud55c \ubaa8\ub2c8\ud130\ub9c1\ub3c4 \ud544\uc694\ud569\ub2c8\ub2e4.\n",
    "\n",
    "**\uc131\ub2a5 \uc9c0\ud45c \ubaa8\ub2c8\ud130\ub9c1**\n",
    "\n",
    "\ub2e4\uc74c\ucc98\ub7fc `compile()` \uba54\uc11c\ub4dc\uc5d0 \uce21\uc815 \uc9c0\ud45c\uc758 \uac1d\uccb4 \ub9ac\uc2a4\ud2b8\ub97c \uc804\ub2ec\ud560 \uc218 \uc788\uc2b5\ub2c8\ub2e4:\n",
    ""
   ]
  },
  {
   "cell_type": "code",
   "execution_count": 0,
   "metadata": {
    "colab_type": "code"
   },
   "outputs": [],
   "source": [
    "model.compile(\n",
    "    optimizer=\"adam\",\n",
    "    loss=\"sparse_categorical_crossentropy\",\n",
    "    metrics=[keras.metrics.SparseCategoricalAccuracy(name=\"acc\")],\n",
    ")\n",
    "history = model.fit(dataset, epochs=1)"
   ]
  },
  {
   "cell_type": "markdown",
   "metadata": {
    "colab_type": "text"
   },
   "source": [
    "**`fit()` \uba54\uc11c\ub4dc\uc5d0 \uac80\uc99d \ub370\uc774\ud130 \uc804\ub2ec\ud558\uae30**\n",
    "\n",
    "`fit()` \uba54\uc11c\ub4dc\uc5d0 \uac80\uc99d \ub370\uc774\ud130\ub97c \uc804\ub2ec\ud558\uc5ec \uac80\uc99d \uc190\uc2e4\uacfc \uc131\ub2a5 \uc9c0\ud45c\ub97c \ubaa8\ub2c8\ud130\ub9c1\ud560 \uc218 \uc788\uc2b5\ub2c8\ub2e4.\n",
    "\uce21\uc815 \uac12\uc740 \ub9e4 \uc5d0\ud3ec\ud06c \ub05d\uc5d0\uc11c \ucd9c\ub825\ub429\ub2c8\ub2e4."
   ]
  },
  {
   "cell_type": "code",
   "execution_count": 0,
   "metadata": {
    "colab_type": "code"
   },
   "outputs": [],
   "source": [
    "val_dataset = tf.data.Dataset.from_tensor_slices((x_test, y_test)).batch(batch_size)\n",
    "history = model.fit(dataset, epochs=1, validation_data=val_dataset)"
   ]
  },
  {
   "cell_type": "markdown",
   "metadata": {
    "colab_type": "text"
   },
   "source": [
    "### \ucf5c\ubc31\uc744 \uc0ac\uc6a9\ud574 \uccb4\ud06c\ud3ec\uc778\ud2b8\uc640 \ub2e4\ub978 \uc5ec\ub7ec \uc791\uc5c5 \uc218\ud589\ud558\uae30\n",
    "\n",
    "\ud6c8\ub828\uc774 \uba87 \ubd84 \uc774\uc0c1 \uc9c0\uc18d\ub418\uba74 \ud6c8\ub828\ud558\ub294 \ub3d9\uc548 \uc77c\uc815 \uac04\uaca9\uc73c\ub85c \ubaa8\ub378\uc744 \uc800\uc7a5\ud558\ub294 \uac83\uc774 \uc88b\uc2b5\ub2c8\ub2e4.\n",
    "\uadf8\ub7ec\uba74 \ud6c8\ub828 \uacfc\uc815\uc5d0 \ubb38\uc81c\uac00 \uc0dd\uacbc\uc744 \ub54c \uc800\uc7a5\ub41c \ubaa8\ub378\uc744 \uc0ac\uc6a9\ud574 \ud6c8\ub828\uc744 \ub2e4\uc2dc \uc2dc\uc791\ud560 \uc218\n",
    "\uc788\uc2b5\ub2c8\ub2e4(\ub2e4\uc911 \uc6cc\ucee4(multi-worker) \ubd84\uc0b0 \ud6c8\ub828\uc77c \uacbd\uc6b0\n",
    "\uc5ec\ub7ec \uc6cc\ucee4 \uc911 \ud558\ub098\uac00 \uc5b4\ub290 \uc21c\uac04 \uc7a5\uc560\ub97c \uc77c\uc73c\ud0ac \uc218 \uc788\uae30 \ub54c\ubb38\uc5d0 \uc774 \uc124\uc815\uc774 \uc911\uc694\ud569\ub2c8\ub2e4).\n",
    "\n",
    "\ucf00\ub77c\uc2a4\uc758 \uc911\uc694\ud55c \uae30\ub2a5 \uc911 \ud558\ub098\ub294 `fit()` \uba54\uc11c\ub4dc\uc5d0 \uc124\uc815\ud560 \uc218 \uc788\ub294 **\ucf5c\ubc31**(callback)\uc785\ub2c8\ub2e4.\n",
    "\ucf5c\ubc31\uc740 \ud6c8\ub828\ud558\ub294 \ub3d9\uc548 \uac01\uae30 \ub2e4\ub978 \uc9c0\uc810\uc5d0\uc11c \ubaa8\ub378\uc774 \ud638\ucd9c\ud558\ub294 \uac1d\uccb4\uc785\ub2c8\ub2e4. \uc608\ub97c \ub4e4\uba74 \ub2e4\uc74c\uacfc \uac19\uc2b5\ub2c8\ub2e4:\n",
    "\n",
    "- \uac01 \ubc30\uce58\uc758 \uc2dc\uc791\uacfc \ub05d\uc5d0\uc11c\n",
    "- \uac01 \uc5d0\ud3ec\ud06c\uc758 \uc2dc\uc791\uacfc \ub05d\uc5d0\uc11c\n",
    "\n",
    "Callbacks are a way to make model trainable entirely scriptable.\n",
    "\n",
    "You can use callbacks to periodically save your model. Here's a simple example: a\n",
    " `ModelCheckpoint` callback\n",
    "configured to save the model at the end of every epoch. The filename will include the\n",
    " current epoch.\n",
    "\n",
    "```python\n",
    "callbacks = [\n",
    "    keras.callbacks.ModelCheckpoint(\n",
    "        filepath='path/to/my/model_{epoch}',\n",
    "        save_freq='epoch')\n",
    "]\n",
    "model.fit(dataset, epochs=2, callbacks=callbacks)\n",
    "```"
   ]
  },
  {
   "cell_type": "markdown",
   "metadata": {
    "colab_type": "text"
   },
   "source": [
    "You can also use callbacks to do things like periodically changing the learning of your\n",
    "optimizer, streaming metrics to a Slack bot, sending yourself an email notification\n",
    " when training is complete, etc.\n",
    "\n",
    "For detailed overview of what callbacks are available and how to write your own, see\n",
    "the [callbacks API documentation](/api/callbacks/) and the\n",
    "[guide to writing custom callbacks](/guides/writing_your_own_callbacks/)."
   ]
  },
  {
   "cell_type": "markdown",
   "metadata": {
    "colab_type": "text"
   },
   "source": [
    "### Monitoring training progress with TensorBoard\n",
    "\n",
    "Staring at the Keras progress bar isn't the most ergonomic way to monitor how your loss\n",
    " and metrics are evolving over time. There's a better solution:\n",
    "[TensorBoard](https://www.tensorflow.org/tensorboard),\n",
    "a web application that can display real-time graphs of your metrics (and more).\n",
    "\n",
    "To use TensorBoard with `fit()`, simply pass a `keras.callbacks.TensorBoard` callback\n",
    " specifying the directory where to store TensorBoard logs:\n",
    "\n",
    "\n",
    "```python\n",
    "callbacks = [\n",
    "    keras.callbacks.TensorBoard(log_dir='./logs')\n",
    "]\n",
    "model.fit(dataset, epochs=2, callbacks=callbacks)\n",
    "```\n",
    "\n",
    "You can then launch a TensorBoard instance that you can open in your browser to monitor\n",
    " the logs getting written to this location:\n",
    "\n",
    "```\n",
    "tensorboard --logdir=./logs\n",
    "```\n",
    "\n",
    "What's more, you can launch an in-line TensorBoard tab when training models in Jupyter\n",
    " / Colab notebooks.\n",
    "[Here's more information](https://www.tensorflow.org/tensorboard/tensorboard_in_notebooks)."
   ]
  },
  {
   "cell_type": "markdown",
   "metadata": {
    "colab_type": "text"
   },
   "source": [
    "### After `fit()`: evaluating test performance & generating predictions on new data\n",
    "\n",
    "Once you have a trained model, you can evaluate its loss and metrics on new data via\n",
    " `evaluate()`:"
   ]
  },
  {
   "cell_type": "code",
   "execution_count": 0,
   "metadata": {
    "colab_type": "code"
   },
   "outputs": [],
   "source": [
    "loss, acc = model.evaluate(val_dataset)  # returns loss and metrics\n",
    "print(\"loss: %.2f\" % loss)\n",
    "print(\"acc: %.2f\" % acc)"
   ]
  },
  {
   "cell_type": "markdown",
   "metadata": {
    "colab_type": "text"
   },
   "source": [
    "You can also generate NumPy arrays of predictions (the activations of the output\n",
    " layer(s) in the model) via `predict()`:"
   ]
  },
  {
   "cell_type": "code",
   "execution_count": 0,
   "metadata": {
    "colab_type": "code"
   },
   "outputs": [],
   "source": [
    "predictions = model.predict(val_dataset)\n",
    "print(predictions.shape)"
   ]
  },
  {
   "cell_type": "markdown",
   "metadata": {
    "colab_type": "text"
   },
   "source": [
    "## Using `fit()` with a custom training step\n",
    "\n",
    "By default, `fit()` is configured for **supervised learning**. If you need a different\n",
    " kind of training loop (for instance, a GAN training loop), you\n",
    "can provide your own implementation of the `Model.train_step()` method. This is the\n",
    " method that is repeatedly called during `fit()`.\n",
    "\n",
    "Metrics, callbacks, etc. will work as usual.\n",
    "\n",
    "Here's a simple example that reimplements what `fit()` normally does:\n",
    "\n",
    "```python\n",
    "class CustomModel(keras.Model):\n",
    "  def train_step(self, data):\n",
    "    # Unpack the data. Its structure depends on your model and\n",
    "    # on what you pass to `fit()`.\n",
    "    x, y = data\n",
    "    with tf.GradientTape() as tape:\n",
    "      y_pred = self(x, training=True)  # Forward pass\n",
    "      # Compute the loss value\n",
    "      # (the loss function is configured in `compile()`)\n",
    "      loss = self.compiled_loss(y, y_pred,\n",
    "                                regularization_losses=self.losses)\n",
    "    # Compute gradients\n",
    "    trainable_vars = self.trainable_variables\n",
    "    gradients = tape.gradient(loss, trainable_vars)\n",
    "    # Update weights\n",
    "    self.optimizer.apply_gradients(zip(gradients, trainable_vars))\n",
    "    # Update metrics (includes the metric that tracks the loss)\n",
    "    self.compiled_metrics.update_state(y, y_pred)\n",
    "    # Return a dict mapping metric names to current value\n",
    "    return {m.name: m.result() for m in self.metrics}\n",
    "\n",
    "# Construct and compile an instance of CustomModel\n",
    "inputs = keras.Input(shape=(32,))\n",
    "outputs = keras.layers.Dense(1)(inputs)\n",
    "model = CustomModel(inputs, outputs)\n",
    "model.compile(optimizer='adam', loss='mse', metrics=[...])\n",
    "\n",
    "# Just use `fit` as usual\n",
    "model.fit(dataset, epochs=3, callbacks=...)\n",
    "```\n",
    "\n",
    "For a detailed overview of how you customize the built-in training & evaluation loops,\n",
    " see the guide:\n",
    "[\"Customizing what happens in `fit()`\"](/guides/customizing_what_happens_in_fit/)."
   ]
  },
  {
   "cell_type": "markdown",
   "metadata": {
    "colab_type": "text"
   },
   "source": [
    "## Debugging your model with eager execution\n",
    "\n",
    "If you write custom training steps or custom layers, you will need to debug them. The\n",
    "debugging experience is an integral part of a framework: with Keras, the debugging\n",
    " workflow is designed with the user in mind.\n",
    "\n",
    "By default, your Keras models are compiled to highly-optimized computation graphs that\n",
    "deliver fast execution times. That means that the Python code you write (e.g. in a\n",
    "custom `train_step`) is not the code you are actually executing. This introduces a\n",
    " layer of indirection that can make debugging hard.\n",
    "\n",
    "Debugging is best done step by step. You want to be able to sprinkle your code with\n",
    "`print()` statement to see what your data looks like after every operation, you want\n",
    "to be able to use `pdb`. You can achieve this by **running your model eagerly**. With\n",
    " eager execution, the Python code you write is the code that gets executed.\n",
    "\n",
    "Simply pass `run_eagerly=True` to `compile()`:\n",
    "\n",
    "```python\n",
    "model.compile(optimizer='adam', loss='mse', run_eagerly=True)\n",
    "```\n",
    "\n",
    "Of course, the downside is that it makes your model significantly slower. Make sure to\n",
    "switch it back off to get the benefits of compiled computation graphs once you are\n",
    " done debugging!\n",
    "\n",
    "In general, you will use `run_eagerly=True` every time you need to debug what's\n",
    " happening inside your `fit()` call."
   ]
  },
  {
   "cell_type": "markdown",
   "metadata": {
    "colab_type": "text"
   },
   "source": [
    "## Speeding up training with multiple GPUs\n",
    "\n",
    "Keras has built-in industry-strength support for multi-GPU training and distributed\n",
    " multi-worker training, via the `tf.distribute` API.\n",
    "\n",
    "If you have multiple GPUs on your machine, you can train your model on all of them by:\n",
    "\n",
    "- Creating a `tf.distribute.MirroredStrategy` object\n",
    "- Building & compiling your model inside the strategy's scope\n",
    "- Calling `fit()` and `evaluate()` on a dataset as usual\n",
    "\n",
    "```python\n",
    "# Create a MirroredStrategy.\n",
    "strategy = tf.distribute.MirroredStrategy()\n",
    "\n",
    "# Open a strategy scope.\n",
    "with strategy.scope():\n",
    "  # Everything that creates variables should be under the strategy scope.\n",
    "  # In general this is only model construction & `compile()`.\n",
    "  model = Model(...)\n",
    "  model.compile(...)\n",
    "\n",
    "# Train the model on all available devices.\n",
    "train_dataset, val_dataset, test_dataset = get_dataset()\n",
    "model.fit(train_dataset, epochs=2, validation_data=val_dataset)\n",
    "\n",
    "# Test the model on all available devices.\n",
    "model.evaluate(test_dataset)\n",
    "```\n",
    "\n",
    "For a detailed introduction to multi-GPU & distributed training, see\n",
    "[this guide](/guides/distributed_training/)."
   ]
  },
  {
   "cell_type": "markdown",
   "metadata": {
    "colab_type": "text"
   },
   "source": [
    "## Doing preprocessing synchronously on-device vs. asynchronously on host CPU\n",
    "\n",
    "You've learned about preprocessing, and you've seen example where we put image\n",
    " preprocessing layers (`CenterCrop` and `Rescaling`) directly inside our model.\n",
    "\n",
    "Having preprocessing happen as part of the model during training\n",
    "is great if you want to do on-device preprocessing, for instance, GPU-accelerated\n",
    "feature normalization or image augmentation. But there are kinds of preprocessing that\n",
    "are not suited to this setup: in particular, text preprocessing with the\n",
    "`TextVectorization` layer. Due to its sequential nature and due to the fact that it\n",
    " can only run on CPU, it's often a good idea to do **asynchronous preprocessing**.\n",
    "\n",
    "With asynchronous preprocessing, your preprocessing operations will run on CPU, and the\n",
    "preprocessed samples will be buffered into a queue while your GPU is busy with\n",
    "previous batch of data. The next batch of preprocessed samples will then be fetched\n",
    "from the queue to the GPU memory right before the GPU becomes available again\n",
    "(prefetching). This ensures that preprocessing will not be blocking and that your GPU\n",
    " can run at full utilization.\n",
    "\n",
    "To do asynchronous preprocessing, simply use `dataset.map` to inject a preprocessing\n",
    " operation into your data pipeline:"
   ]
  },
  {
   "cell_type": "code",
   "execution_count": 0,
   "metadata": {
    "colab_type": "code"
   },
   "outputs": [],
   "source": [
    "# Example training data, of dtype `string`.\n",
    "samples = np.array([[\"This is the 1st sample.\"], [\"And here's the 2nd sample.\"]])\n",
    "labels = [[0], [1]]\n",
    "\n",
    "# Prepare a TextVectorization layer.\n",
    "vectorizer = TextVectorization(output_mode=\"int\")\n",
    "vectorizer.adapt(samples)\n",
    "\n",
    "# Asynchronous preprocessing: the text vectorization is part of the tf.data pipeline.\n",
    "# First, create a dataset\n",
    "dataset = tf.data.Dataset.from_tensor_slices((samples, labels)).batch(2)\n",
    "# Apply text vectorization to the samples\n",
    "dataset = dataset.map(lambda x, y: (vectorizer(x), y))\n",
    "# Prefetch with a buffer size of 2 batches\n",
    "dataset = dataset.prefetch(2)\n",
    "\n",
    "# Our model should expect sequences of integers as inputs\n",
    "inputs = keras.Input(shape=(None,), dtype=\"int64\")\n",
    "x = layers.Embedding(input_dim=10, output_dim=32)(inputs)\n",
    "outputs = layers.Dense(1)(x)\n",
    "model = keras.Model(inputs, outputs)\n",
    "\n",
    "model.compile(optimizer=\"adam\", loss=\"mse\", run_eagerly=True)\n",
    "model.fit(dataset)"
   ]
  },
  {
   "cell_type": "markdown",
   "metadata": {
    "colab_type": "text"
   },
   "source": [
    "Compare this to doing text vectorization as part of the model:"
   ]
  },
  {
   "cell_type": "code",
   "execution_count": 0,
   "metadata": {
    "colab_type": "code"
   },
   "outputs": [],
   "source": [
    "# Our dataset will yield samples that are strings\n",
    "dataset = tf.data.Dataset.from_tensor_slices((samples, labels)).batch(2)\n",
    "\n",
    "# Our model should expect strings as inputs\n",
    "inputs = keras.Input(shape=(1,), dtype=\"string\")\n",
    "x = vectorizer(inputs)\n",
    "x = layers.Embedding(input_dim=10, output_dim=32)(x)\n",
    "outputs = layers.Dense(1)(x)\n",
    "model = keras.Model(inputs, outputs)\n",
    "\n",
    "model.compile(optimizer=\"adam\", loss=\"mse\", run_eagerly=True)\n",
    "model.fit(dataset)"
   ]
  },
  {
   "cell_type": "markdown",
   "metadata": {
    "colab_type": "text"
   },
   "source": [
    "When training text models on CPU, you will generally not see any performance difference\n",
    "between the two setups. When training on GPU, however, doing asynchronous buffered\n",
    "preprocessing on the host CPU while the GPU is running the model itself can result in\n",
    " a significant speedup.\n",
    "\n",
    "After training, if you to export an end-to-end model that includes the preprocessing\n",
    " layer(s), this is easy to do, since `TextVectorization` is a layer:\n",
    "\n",
    "```python\n",
    "inputs = keras.Input(shape=(1,), dtype='string')\n",
    "x = vectorizer(inputs)\n",
    "outputs = trained_model(x)\n",
    "end_to_end_model = keras.Model(inputs, outputs)\n",
    "```"
   ]
  },
  {
   "cell_type": "markdown",
   "metadata": {
    "colab_type": "text"
   },
   "source": [
    "## Finding the best model configuration with hyperparameter tuning\n",
    "\n",
    "Once you have a working model, you're going to want to optimize its configuration --\n",
    "architecture choices, layer sizes, etc. Human intuition can only go so far, so you'll\n",
    " want to leverage a systematic approach: hyperparameter search.\n",
    "\n",
    "You can use\n",
    "[Keras Tuner](https://keras-team.github.io/keras-tuner/documentation/tuners/) to find\n",
    " the best hyperparameter for your Keras models. It's as easy as calling `fit()`.\n",
    "\n",
    "Here how it works.\n",
    "\n",
    "First, place your model definition in a function, that takes a single `hp` argument.\n",
    "Inside this function, replace any value you want to tune with a call to hyperparameter\n",
    " sampling methods, e.g. `hp.Int()` or `hp.Choice()`:\n",
    "\n",
    "```python\n",
    "def build_model(hp):\n",
    "    inputs = keras.Input(shape=(784,))\n",
    "    x = layers.Dense(\n",
    "        units=hp.Int('units', min_value=32, max_value=512, step=32),\n",
    "        activation='relu'))(inputs)\n",
    "    outputs = layers.Dense(10, activation='softmax')(x)\n",
    "    model = keras.Model(inputs, outputs)\n",
    "    model.compile(\n",
    "        optimizer=keras.optimizers.Adam(\n",
    "            hp.Choice('learning_rate',\n",
    "                      values=[1e-2, 1e-3, 1e-4])),\n",
    "        loss='sparse_categorical_crossentropy',\n",
    "        metrics=['accuracy'])\n",
    "    return model\n",
    "```\n",
    "\n",
    "The function should return a compiled model.\n",
    "\n",
    "Next, instantiate a tuner object specifying your optimiation objective and other search\n",
    " parameters:\n",
    "\n",
    "\n",
    "```python\n",
    "import kerastuner\n",
    "\n",
    "tuner = kerastuner.tuners.Hyperband(\n",
    "  build_model,\n",
    "  objective='val_loss',\n",
    "  max_epochs=100,\n",
    "  max_trials=200,\n",
    "  executions_per_trial=2,\n",
    "  directory='my_dir')\n",
    "```\n",
    "\n",
    "Finally, start the search with the `search()` method, which takes the same arguments as\n",
    " `Model.fit()`:\n",
    "\n",
    "```python\n",
    "tuner.search(dataset, validation_data=val_dataset)\n",
    "```\n",
    "\n",
    "When search is over, you can retrieve the best model(s):\n",
    "\n",
    "```python\n",
    "models = tuner.get_best_models(num_models=2)\n",
    "```\n",
    "\n",
    "Or print a summary of the results:\n",
    "\n",
    "```python\n",
    "tuner.results_summary()\n",
    "```"
   ]
  },
  {
   "cell_type": "markdown",
   "metadata": {
    "colab_type": "text"
   },
   "source": [
    "## End-to-end examples\n",
    "\n",
    "To familiarize yourself with the concepts in this introduction, see the following\n",
    " end-to-end examples:\n",
    "\n",
    "- [Text classification](/examples/nlp/text_classification_from_scratch/)\n",
    "- [Image classification](/examples/vision/image_classification_from_scratch/)\n",
    "- [Credit card fraud detection](/examples/structured_data/imbalanced_classification/)"
   ]
  },
  {
   "cell_type": "markdown",
   "metadata": {
    "colab_type": "text"
   },
   "source": [
    "## What to learn next\n",
    "\n",
    "- Learn more about the\n",
    "[Functional API](/guides/functional_api/).\n",
    "- Learn more about the\n",
    "[features of `fit()` and `evaluate()`](/guides/training_with_built_in_methods/).\n",
    "- Learn more about\n",
    "[callbacks](/guides/writing_your_own_callbacks/).\n",
    "- Learn more about\n",
    "[creating your own custom training steps](/guides/customizing_what_happens_in_fit/).\n",
    "- Learn more about\n",
    "[multi-GPU and distributed training](/guides/distributed_training/).\n",
    "- Learn how to do [transfer learning](/guides/transfer_learning/)."
   ]
  }
 ],
 "metadata": {
  "colab": {
   "collapsed_sections": [],
   "name": "intro_to_keras_for_engineers",
   "private_outputs": false,
   "provenance": [],
   "toc_visible": true
  },
  "kernelspec": {
   "display_name": "Python 3",
   "language": "python",
   "name": "python3"
  },
  "language_info": {
   "codemirror_mode": {
    "name": "ipython",
    "version": 3
   },
   "file_extension": ".py",
   "mimetype": "text/x-python",
   "name": "python",
   "nbconvert_exporter": "python",
   "pygments_lexer": "ipython3",
   "version": "3.7.0"
  }
 },
 "nbformat": 4,
 "nbformat_minor": 0
}